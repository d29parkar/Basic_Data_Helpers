{
  "nbformat": 4,
  "nbformat_minor": 0,
  "metadata": {
    "colab": {
      "name": "Copy of Numpy and Helper Functions for File Handling.ipynb",
      "provenance": [],
      "mount_file_id": "1PBHV3utvsx7ox69zTDt5L1Icw-eYYlfO",
      "authorship_tag": "ABX9TyN879bC8YMM79R+FLVIepms",
      "include_colab_link": true
    },
    "kernelspec": {
      "name": "python3",
      "display_name": "Python 3"
    },
    "language_info": {
      "name": "python"
    }
  },
  "cells": [
    {
      "cell_type": "markdown",
      "metadata": {
        "id": "view-in-github",
        "colab_type": "text"
      },
      "source": [
        "<a href=\"https://colab.research.google.com/github/d29parkar/Basic_Data_Helpers/blob/main/Copy_of_Numpy_and_Helper_Functions_for_File_Handling.ipynb\" target=\"_parent\"><img src=\"https://colab.research.google.com/assets/colab-badge.svg\" alt=\"Open In Colab\"/></a>"
      ]
    },
    {
      "cell_type": "code",
      "metadata": {
        "id": "YMZJW7YID87D"
      },
      "source": [
        "import numpy as np"
      ],
      "execution_count": null,
      "outputs": []
    },
    {
      "cell_type": "code",
      "metadata": {
        "colab": {
          "base_uri": "https://localhost:8080/"
        },
        "id": "0PiTms1Dkqx6",
        "outputId": "7595f541-b3f8-445a-c5c2-5b0c40dbe086"
      },
      "source": [
        "import urllib.request\n",
        "\n",
        "urllib.request.urlretrieve('https://hub.jovian.ml/wp-content/uploads/2020/08/climate.csv', 'climate.txt')"
      ],
      "execution_count": null,
      "outputs": [
        {
          "output_type": "execute_result",
          "data": {
            "text/plain": [
              "('climate.txt', <http.client.HTTPMessage at 0x7f0737b97c90>)"
            ]
          },
          "metadata": {
            "tags": []
          },
          "execution_count": 7
        }
      ]
    },
    {
      "cell_type": "code",
      "metadata": {
        "id": "rU1MRAyolq6L"
      },
      "source": [
        "climate_data = np.genfromtxt('climate.txt', delimiter=',', skip_header=1)    "
      ],
      "execution_count": null,
      "outputs": []
    },
    {
      "cell_type": "markdown",
      "metadata": {
        "id": "2LJGSNHyml-j"
      },
      "source": [
        "Load data from a text file, with missing values handled as specified. \n",
        "Each line past the first skip_header lines is split at the delimiter character, and characters following the comments character are discarded.\n"
      ]
    },
    {
      "cell_type": "code",
      "metadata": {
        "colab": {
          "base_uri": "https://localhost:8080/"
        },
        "id": "bvPybYcXmIzU",
        "outputId": "759e6eaf-4666-4736-bbdd-ff92029b8d1b"
      },
      "source": [
        "climate_data\n",
        "climate_data.shape"
      ],
      "execution_count": null,
      "outputs": [
        {
          "output_type": "execute_result",
          "data": {
            "text/plain": [
              "(10000, 3)"
            ]
          },
          "metadata": {
            "tags": []
          },
          "execution_count": 9
        }
      ]
    },
    {
      "cell_type": "code",
      "metadata": {
        "id": "K7_qWJLFm-z_"
      },
      "source": [
        "weights = np.array([0.3, 0.2, 0.5])"
      ],
      "execution_count": null,
      "outputs": []
    },
    {
      "cell_type": "code",
      "metadata": {
        "id": "44WMo6syniR_"
      },
      "source": [
        "yields = climate_data @ weights"
      ],
      "execution_count": null,
      "outputs": []
    },
    {
      "cell_type": "code",
      "metadata": {
        "colab": {
          "base_uri": "https://localhost:8080/"
        },
        "id": "eesJgcMRnjwK",
        "outputId": "2faa9dfa-bbd3-4ac4-e28d-cbbe858c482e"
      },
      "source": [
        "yields.shape"
      ],
      "execution_count": null,
      "outputs": [
        {
          "output_type": "execute_result",
          "data": {
            "text/plain": [
              "(10000,)"
            ]
          },
          "metadata": {
            "tags": []
          },
          "execution_count": 12
        }
      ]
    },
    {
      "cell_type": "code",
      "metadata": {
        "id": "TNhpd9AzoQ_a"
      },
      "source": [
        "climate_results = np.concatenate((climate_data, yields.reshape(10000,1)), axis=1)"
      ],
      "execution_count": null,
      "outputs": []
    },
    {
      "cell_type": "code",
      "metadata": {
        "colab": {
          "base_uri": "https://localhost:8080/"
        },
        "id": "ETsdN3fBohyH",
        "outputId": "48d873ae-f8c0-4ab9-bb34-61380528e414"
      },
      "source": [
        "climate_results"
      ],
      "execution_count": null,
      "outputs": [
        {
          "output_type": "execute_result",
          "data": {
            "text/plain": [
              "array([[25. , 76. , 99. , 72.2],\n",
              "       [39. , 65. , 70. , 59.7],\n",
              "       [59. , 45. , 77. , 65.2],\n",
              "       ...,\n",
              "       [99. , 62. , 58. , 71.1],\n",
              "       [70. , 71. , 91. , 80.7],\n",
              "       [92. , 39. , 76. , 73.4]])"
            ]
          },
          "metadata": {
            "tags": []
          },
          "execution_count": 14
        }
      ]
    },
    {
      "cell_type": "code",
      "metadata": {
        "id": "Dj2tlcG4okQl"
      },
      "source": [
        "np.savetxt('climate_results.txt', \n",
        "           climate_results, \n",
        "           fmt='%.2f', \n",
        "           delimiter=',',\n",
        "           header='temperature,rainfall,humidity,yeild_apples', \n",
        "           comments='')"
      ],
      "execution_count": null,
      "outputs": []
    },
    {
      "cell_type": "markdown",
      "metadata": {
        "id": "S-58vqUxt9gp"
      },
      "source": [
        "#Reading from and Writing to Files using Python"
      ]
    },
    {
      "cell_type": "code",
      "metadata": {
        "id": "103P5WTTt9CT"
      },
      "source": [
        "import os\n"
      ],
      "execution_count": null,
      "outputs": []
    },
    {
      "cell_type": "code",
      "metadata": {
        "colab": {
          "base_uri": "https://localhost:8080/",
          "height": 35
        },
        "id": "wc58Ib5Aqlv_",
        "outputId": "8df31610-a6cf-4647-ec90-2fe3c08cf4b4"
      },
      "source": [
        "os.getcwd()\n"
      ],
      "execution_count": null,
      "outputs": [
        {
          "output_type": "execute_result",
          "data": {
            "application/vnd.google.colaboratory.intrinsic+json": {
              "type": "string"
            },
            "text/plain": [
              "'/content'"
            ]
          },
          "metadata": {
            "tags": []
          },
          "execution_count": 17
        }
      ]
    },
    {
      "cell_type": "code",
      "metadata": {
        "colab": {
          "base_uri": "https://localhost:8080/"
        },
        "id": "I96E-e8OwhQt",
        "outputId": "48b14ce9-c97f-46c1-8ce6-d9db43d21c5f"
      },
      "source": [
        "os.listdir('.')"
      ],
      "execution_count": null,
      "outputs": [
        {
          "output_type": "execute_result",
          "data": {
            "text/plain": [
              "['.config', 'climate_results.txt', 'climate.txt', 'sample_data']"
            ]
          },
          "metadata": {
            "tags": []
          },
          "execution_count": 18
        }
      ]
    },
    {
      "cell_type": "code",
      "metadata": {
        "id": "NqMJNxxcwnbJ"
      },
      "source": [
        "os.makedirs('./data', exist_ok=True)"
      ],
      "execution_count": null,
      "outputs": []
    },
    {
      "cell_type": "code",
      "metadata": {
        "colab": {
          "base_uri": "https://localhost:8080/"
        },
        "id": "Ibqs6fXyy0ey",
        "outputId": "0e62a71a-4f92-4e9c-853b-17d0501b935a"
      },
      "source": [
        "'data' in os.listdir('.')"
      ],
      "execution_count": null,
      "outputs": [
        {
          "output_type": "execute_result",
          "data": {
            "text/plain": [
              "True"
            ]
          },
          "metadata": {
            "tags": []
          },
          "execution_count": 20
        }
      ]
    },
    {
      "cell_type": "code",
      "metadata": {
        "colab": {
          "base_uri": "https://localhost:8080/"
        },
        "id": "6Y6juJ8Ky4yJ",
        "outputId": "903fa4a1-a339-4172-a0c4-cffd8bb847fc"
      },
      "source": [
        "os.listdir('./data')"
      ],
      "execution_count": null,
      "outputs": [
        {
          "output_type": "execute_result",
          "data": {
            "text/plain": [
              "[]"
            ]
          },
          "metadata": {
            "tags": []
          },
          "execution_count": 21
        }
      ]
    },
    {
      "cell_type": "code",
      "metadata": {
        "id": "3DzLQCO9zcMD"
      },
      "source": [
        "url1 = 'https://gist.githubusercontent.com/aakashns/257f6e6c8719c17d0e498ea287d1a386/raw/7def9ef4234ddf0bc82f855ad67dac8b971852ef/loans1.txt'\n",
        "url2 = 'https://gist.githubusercontent.com/aakashns/257f6e6c8719c17d0e498ea287d1a386/raw/7def9ef4234ddf0bc82f855ad67dac8b971852ef/loans2.txt'\n",
        "url3 = 'https://gist.githubusercontent.com/aakashns/257f6e6c8719c17d0e498ea287d1a386/raw/7def9ef4234ddf0bc82f855ad67dac8b971852ef/loans3.txt'\n"
      ],
      "execution_count": null,
      "outputs": []
    },
    {
      "cell_type": "code",
      "metadata": {
        "id": "WUFGFK1QzrsH"
      },
      "source": [
        "from urllib.request import urlretrieve"
      ],
      "execution_count": null,
      "outputs": []
    },
    {
      "cell_type": "code",
      "metadata": {
        "colab": {
          "base_uri": "https://localhost:8080/"
        },
        "id": "FArZY1PJz2FF",
        "outputId": "f546b78a-db17-4162-f38d-1314fc90d860"
      },
      "source": [
        "urlretrieve(url1, './data/loans1.txt')"
      ],
      "execution_count": null,
      "outputs": [
        {
          "output_type": "execute_result",
          "data": {
            "text/plain": [
              "('./data/loans1.txt', <http.client.HTTPMessage at 0x7f0737bfadd0>)"
            ]
          },
          "metadata": {
            "tags": []
          },
          "execution_count": 24
        }
      ]
    },
    {
      "cell_type": "code",
      "metadata": {
        "colab": {
          "base_uri": "https://localhost:8080/"
        },
        "id": "zbLobZiO0Rrj",
        "outputId": "27e6bedf-b219-471b-a41d-fffdf2bfd485"
      },
      "source": [
        "urlretrieve(url2, './data/loans2.txt')"
      ],
      "execution_count": null,
      "outputs": [
        {
          "output_type": "execute_result",
          "data": {
            "text/plain": [
              "('./data/loans2.txt', <http.client.HTTPMessage at 0x7f0737ba9650>)"
            ]
          },
          "metadata": {
            "tags": []
          },
          "execution_count": 25
        }
      ]
    },
    {
      "cell_type": "code",
      "metadata": {
        "colab": {
          "base_uri": "https://localhost:8080/"
        },
        "id": "csn8vQWK0ZeK",
        "outputId": "6984286e-810d-4d98-c0e8-5b990ff038ef"
      },
      "source": [
        "urlretrieve(url3, './data/loans3.txt')"
      ],
      "execution_count": null,
      "outputs": [
        {
          "output_type": "execute_result",
          "data": {
            "text/plain": [
              "('./data/loans3.txt', <http.client.HTTPMessage at 0x7f0737b8cf50>)"
            ]
          },
          "metadata": {
            "tags": []
          },
          "execution_count": 26
        }
      ]
    },
    {
      "cell_type": "code",
      "metadata": {
        "colab": {
          "base_uri": "https://localhost:8080/"
        },
        "id": "EQxXMT3U0bpI",
        "outputId": "6da78bc7-6ab0-4e12-f38d-8f8971d398ac"
      },
      "source": [
        "os.listdir('./data')"
      ],
      "execution_count": null,
      "outputs": [
        {
          "output_type": "execute_result",
          "data": {
            "text/plain": [
              "['loans1.txt', 'loans3.txt', 'loans2.txt']"
            ]
          },
          "metadata": {
            "tags": []
          },
          "execution_count": 27
        }
      ]
    },
    {
      "cell_type": "markdown",
      "metadata": {
        "id": "tKA4aoG50kj4"
      },
      "source": [
        "#Reading from a file"
      ]
    },
    {
      "cell_type": "code",
      "metadata": {
        "colab": {
          "base_uri": "https://localhost:8080/"
        },
        "id": "0Pta0y4_0fpO",
        "outputId": "9976a12a-198a-4e3a-866f-2423011ca4ad"
      },
      "source": [
        "with open('./data/loans2.txt') as file2:\n",
        "    file2_contents = file2.read()\n",
        "    print(file2_contents)"
      ],
      "execution_count": null,
      "outputs": [
        {
          "output_type": "stream",
          "text": [
            "amount,duration,rate,down_payment\n",
            "828400,120,0.11,100000\n",
            "4633400,240,0.06,\n",
            "42900,90,0.08,8900\n",
            "983000,16,0.14,\n",
            "15230,48,0.07,4300\n"
          ],
          "name": "stdout"
        }
      ]
    },
    {
      "cell_type": "code",
      "metadata": {
        "id": "GhWJABqb05zk"
      },
      "source": [
        "with open('./data/loans3.txt', 'r') as file3:\n",
        "    file3_lines = file3.readlines()"
      ],
      "execution_count": null,
      "outputs": []
    },
    {
      "cell_type": "code",
      "metadata": {
        "colab": {
          "base_uri": "https://localhost:8080/"
        },
        "id": "8zZia6HC1HTX",
        "outputId": "4058a41c-0b45-4b8b-d7af-95a37b51abbb"
      },
      "source": [
        "file3_lines[0].strip()   #The strip() method returns a copy of the string by removing both \n",
        "                         #the leading and the trailing characters (based on the string argument passed)."
      ],
      "execution_count": null,
      "outputs": [
        {
          "output_type": "execute_result",
          "data": {
            "application/vnd.google.colaboratory.intrinsic+json": {
              "type": "string"
            },
            "text/plain": [
              "'amount,duration,rate,down_payment'"
            ]
          },
          "metadata": {
            "tags": []
          },
          "execution_count": 30
        }
      ]
    },
    {
      "cell_type": "code",
      "metadata": {
        "colab": {
          "base_uri": "https://localhost:8080/"
        },
        "id": "XLUH4gcj2Lsm",
        "outputId": "745abece-0ecc-4ca1-875d-1903e4766356"
      },
      "source": [
        "file3_lines[0].strip().split(',')"
      ],
      "execution_count": null,
      "outputs": [
        {
          "output_type": "execute_result",
          "data": {
            "text/plain": [
              "['amount', 'duration', 'rate', 'down_payment']"
            ]
          },
          "metadata": {
            "tags": []
          },
          "execution_count": 31
        }
      ]
    },
    {
      "cell_type": "code",
      "metadata": {
        "id": "e8kOeP082b0h"
      },
      "source": [
        "def parse_headers(header_line):\n",
        "    return header_line.strip().split(',')\n",
        "\n",
        "def parse_values(data_line):\n",
        "    values = []\n",
        "    for item in data_line.strip().split(','):\n",
        "        if item == '':\n",
        "            values.append(0.0)\n",
        "        else:\n",
        "            try:\n",
        "                values.append(float(item))\n",
        "            except ValueError:\n",
        "                values.append(item)\n",
        "    return values\n",
        "\n",
        "def create_item_dict(values, headers):\n",
        "    result = {}\n",
        "    for value, header in zip(values, headers):\n",
        "        result[header] = value\n",
        "    return result"
      ],
      "execution_count": null,
      "outputs": []
    },
    {
      "cell_type": "code",
      "metadata": {
        "colab": {
          "base_uri": "https://localhost:8080/"
        },
        "id": "Czj1yc897QXv",
        "outputId": "3fadb072-e441-4a95-bc02-db41283bd16d"
      },
      "source": [
        "headers = parse_headers(file3_lines[0])\n",
        "print(headers)\n",
        "values1 = parse_values(file3_lines[1])\n",
        "print(values1)\n",
        "result1 = create_item_dict(values1, headers)\n",
        "print(result1)"
      ],
      "execution_count": null,
      "outputs": [
        {
          "output_type": "stream",
          "text": [
            "['amount', 'duration', 'rate', 'down_payment']\n",
            "[45230.0, 48.0, 0.07, 4300.0]\n",
            "{'amount': 45230.0, 'duration': 48.0, 'rate': 0.07, 'down_payment': 4300.0}\n"
          ],
          "name": "stdout"
        }
      ]
    },
    {
      "cell_type": "code",
      "metadata": {
        "id": "Bptx3xHp7b6E"
      },
      "source": [
        "def read_csv_as_array(path):\n",
        "    result = []\n",
        "    # Open the file in read mode\n",
        "    with open(path, 'r') as f:\n",
        "        # Get a list of lines\n",
        "        lines = f.readlines()\n",
        "        # Parse the header\n",
        "        headers = parse_headers(lines[0])\n",
        "        # Loop over the remaining lines\n",
        "        for data_line in lines[1:]:\n",
        "            # Parse the values\n",
        "            result.append(parse_values(data_line))\n",
        "    return result\n",
        "\n"
      ],
      "execution_count": null,
      "outputs": []
    },
    {
      "cell_type": "code",
      "metadata": {
        "colab": {
          "base_uri": "https://localhost:8080/"
        },
        "id": "fz5lDp59m69-",
        "outputId": "a97faf02-bfbe-44b9-cb50-6dadf2e452b0"
      },
      "source": [
        "read_csv_as_array('./data/loans2.txt')   #Read the data from csv file as an nested array."
      ],
      "execution_count": null,
      "outputs": [
        {
          "output_type": "execute_result",
          "data": {
            "text/plain": [
              "[[828400.0, 120.0, 0.11, 100000.0],\n",
              " [4633400.0, 240.0, 0.06, 0.0],\n",
              " [42900.0, 90.0, 0.08, 8900.0],\n",
              " [983000.0, 16.0, 0.14, 0.0],\n",
              " [15230.0, 48.0, 0.07, 4300.0]]"
            ]
          },
          "metadata": {
            "tags": []
          },
          "execution_count": 35
        }
      ]
    },
    {
      "cell_type": "code",
      "metadata": {
        "id": "6I61fLB39cWX"
      },
      "source": [
        "def read_csv(path):\n",
        "    result = []\n",
        "    # Open the file in read mode\n",
        "    with open(path, 'r') as f:\n",
        "        # Get a list of lines\n",
        "        lines = f.readlines()\n",
        "        # Parse the header\n",
        "        headers = parse_headers(lines[0])\n",
        "        # Loop over the remaining lines\n",
        "        for data_line in lines[1:]:\n",
        "            # Parse the values\n",
        "            values = parse_values(data_line)\n",
        "            # Create a dictionary using values & headers\n",
        "            item_dict = create_item_dict(values, headers)\n",
        "            # Add the dictionary to the result\n",
        "            result.append(item_dict)\n",
        "    return result"
      ],
      "execution_count": null,
      "outputs": []
    },
    {
      "cell_type": "code",
      "metadata": {
        "colab": {
          "base_uri": "https://localhost:8080/"
        },
        "id": "OBcko-Fg-tqg",
        "outputId": "c58d7734-25f2-4ced-fad2-77bfe7418eeb"
      },
      "source": [
        "read_csv('./data/loans2.txt')    #Read the data from the csv file as a Dictionary."
      ],
      "execution_count": null,
      "outputs": [
        {
          "output_type": "execute_result",
          "data": {
            "text/plain": [
              "[{'amount': 828400.0,\n",
              "  'down_payment': 100000.0,\n",
              "  'duration': 120.0,\n",
              "  'rate': 0.11},\n",
              " {'amount': 4633400.0, 'down_payment': 0.0, 'duration': 240.0, 'rate': 0.06},\n",
              " {'amount': 42900.0, 'down_payment': 8900.0, 'duration': 90.0, 'rate': 0.08},\n",
              " {'amount': 983000.0, 'down_payment': 0.0, 'duration': 16.0, 'rate': 0.14},\n",
              " {'amount': 15230.0, 'down_payment': 4300.0, 'duration': 48.0, 'rate': 0.07}]"
            ]
          },
          "metadata": {
            "tags": []
          },
          "execution_count": 37
        }
      ]
    },
    {
      "cell_type": "markdown",
      "metadata": {
        "id": "ZPIF2rrpnjiD"
      },
      "source": [
        "#Writing to FIles"
      ]
    },
    {
      "cell_type": "code",
      "metadata": {
        "id": "Hvw0b7w_-zqi"
      },
      "source": [
        "import math\n",
        "\n",
        "def loan_emi(amount, duration, rate, down_payment=0):\n",
        "    \"\"\"Calculates the equal montly installment (EMI) for a loan.\n",
        "    \n",
        "    Arguments:\n",
        "        amount - Total amount to be spent (loan + down payment)\n",
        "        duration - Duration of the loan (in months)\n",
        "        rate - Rate of interest (monthly)\n",
        "        down_payment (optional) - Optional intial payment (deducted from amount)\n",
        "    \"\"\"\n",
        "    loan_amount = amount - down_payment\n",
        "    try:\n",
        "        emi = loan_amount * rate * ((1+rate)**duration) / (((1+rate)**duration)-1)\n",
        "    except ZeroDivisionError:\n",
        "        emi = loan_amount / duration\n",
        "    emi = math.ceil(emi)\n",
        "    return emi"
      ],
      "execution_count": null,
      "outputs": []
    },
    {
      "cell_type": "code",
      "metadata": {
        "id": "lagIJzOJn-Jv"
      },
      "source": [
        "def compute_emis(loans):\n",
        "    for loan in loans:\n",
        "        loan['emi'] = loan_emi(\n",
        "            loan['amount'], \n",
        "            loan['duration'], \n",
        "            loan['rate']/12, # the CSV contains yearly rates\n",
        "            loan['down_payment'])"
      ],
      "execution_count": null,
      "outputs": []
    },
    {
      "cell_type": "code",
      "metadata": {
        "id": "3wdRhIe9oBsE"
      },
      "source": [
        "loans2 = read_csv('./data/loans2.txt')"
      ],
      "execution_count": null,
      "outputs": []
    },
    {
      "cell_type": "code",
      "metadata": {
        "colab": {
          "base_uri": "https://localhost:8080/"
        },
        "id": "aQ4DcitroEfX",
        "outputId": "6f89689e-131b-46ae-d373-248e5dcab26f"
      },
      "source": [
        "compute_emis(loans2)\n",
        "loans2"
      ],
      "execution_count": null,
      "outputs": [
        {
          "output_type": "execute_result",
          "data": {
            "text/plain": [
              "[{'amount': 828400.0,\n",
              "  'down_payment': 100000.0,\n",
              "  'duration': 120.0,\n",
              "  'emi': 10034,\n",
              "  'rate': 0.11},\n",
              " {'amount': 4633400.0,\n",
              "  'down_payment': 0.0,\n",
              "  'duration': 240.0,\n",
              "  'emi': 33196,\n",
              "  'rate': 0.06},\n",
              " {'amount': 42900.0,\n",
              "  'down_payment': 8900.0,\n",
              "  'duration': 90.0,\n",
              "  'emi': 504,\n",
              "  'rate': 0.08},\n",
              " {'amount': 983000.0,\n",
              "  'down_payment': 0.0,\n",
              "  'duration': 16.0,\n",
              "  'emi': 67707,\n",
              "  'rate': 0.14},\n",
              " {'amount': 15230.0,\n",
              "  'down_payment': 4300.0,\n",
              "  'duration': 48.0,\n",
              "  'emi': 262,\n",
              "  'rate': 0.07}]"
            ]
          },
          "metadata": {
            "tags": []
          },
          "execution_count": 41
        }
      ]
    },
    {
      "cell_type": "code",
      "metadata": {
        "id": "FbU2LieuoHrr"
      },
      "source": [
        "with open('./data/emis2.txt', 'w') as f:\n",
        "    for loan in loans2:\n",
        "        f.write('{},{},{},{},{}\\n'.format(\n",
        "            loan['amount'], \n",
        "            loan['duration'], \n",
        "            loan['rate'], \n",
        "            loan['down_payment'], \n",
        "            loan['emi']))"
      ],
      "execution_count": null,
      "outputs": []
    },
    {
      "cell_type": "code",
      "metadata": {
        "colab": {
          "base_uri": "https://localhost:8080/"
        },
        "id": "dzQfEBi4oeOU",
        "outputId": "93c031dc-c231-4dde-ff64-d454e305e71a"
      },
      "source": [
        "with open('./data/emis2.txt', 'r') as f:\n",
        "    print(f.read())"
      ],
      "execution_count": null,
      "outputs": [
        {
          "output_type": "stream",
          "text": [
            "828400.0,120.0,0.11,100000.0,10034\n",
            "4633400.0,240.0,0.06,0.0,33196\n",
            "42900.0,90.0,0.08,8900.0,504\n",
            "983000.0,16.0,0.14,0.0,67707\n",
            "15230.0,48.0,0.07,4300.0,262\n",
            "\n"
          ],
          "name": "stdout"
        }
      ]
    },
    {
      "cell_type": "code",
      "metadata": {
        "id": "a1gNG9jrojvf"
      },
      "source": [
        "def write_csv(items, path):\n",
        "    # Open the file in write mode\n",
        "    with open(path, 'w') as f:\n",
        "        # Return if there's nothing to write\n",
        "        if len(items) == 0:\n",
        "            return\n",
        "        \n",
        "        # Write the headers in the first line\n",
        "        headers = list(items[0].keys())\n",
        "        f.write(','.join(headers) + '\\n')\n",
        "        \n",
        "        # Write one item per line\n",
        "        for item in items:\n",
        "            values = []\n",
        "            for header in headers:\n",
        "                values.append(str(item.get(header, \"\")))\n",
        "            f.write(','.join(values) + \"\\n\")"
      ],
      "execution_count": null,
      "outputs": []
    },
    {
      "cell_type": "code",
      "metadata": {
        "id": "rUP1iRcspC0F"
      },
      "source": [
        "loans3 = read_csv('./data/loans3.txt')"
      ],
      "execution_count": null,
      "outputs": []
    },
    {
      "cell_type": "code",
      "metadata": {
        "id": "RAJ6sOahpF_w"
      },
      "source": [
        "compute_emis(loans3)"
      ],
      "execution_count": null,
      "outputs": []
    },
    {
      "cell_type": "code",
      "metadata": {
        "id": "wZRh1g7SpH7k"
      },
      "source": [
        "write_csv(loans3, './data/emis3.txt')"
      ],
      "execution_count": null,
      "outputs": []
    },
    {
      "cell_type": "code",
      "metadata": {
        "colab": {
          "base_uri": "https://localhost:8080/"
        },
        "id": "U3NnID5OpJsR",
        "outputId": "ff6f3d7a-9614-4e84-b33d-546b8db199a3"
      },
      "source": [
        "with open('./data/emis3.txt', 'r') as f:\n",
        "    print(f.read())"
      ],
      "execution_count": null,
      "outputs": [
        {
          "output_type": "stream",
          "text": [
            "amount,duration,rate,down_payment,emi\n",
            "45230.0,48.0,0.07,4300.0,981\n",
            "883000.0,16.0,0.14,0.0,60819\n",
            "100000.0,12.0,0.1,0.0,8792\n",
            "728400.0,120.0,0.12,100000.0,9016\n",
            "3637400.0,240.0,0.06,0.0,26060\n",
            "82900.0,90.0,0.07,8900.0,1060\n",
            "316000.0,16.0,0.13,0.0,21618\n",
            "15230.0,48.0,0.08,4300.0,267\n",
            "991360.0,99.0,0.08,0.0,13712\n",
            "323000.0,27.0,0.09,4720010000.0,-193751447\n",
            "528400.0,120.0,0.11,100000.0,5902\n",
            "8633400.0,240.0,0.06,0.0,61853\n",
            "12900.0,90.0,0.08,8900.0,60\n",
            "\n"
          ],
          "name": "stdout"
        }
      ]
    },
    {
      "cell_type": "code",
      "metadata": {
        "colab": {
          "base_uri": "https://localhost:8080/",
          "height": 35
        },
        "id": "ZvNLmmN4pLNu",
        "outputId": "efec0d82-d9a2-4054-da08-dd2ebfddf430"
      },
      "source": [
        "%pwd"
      ],
      "execution_count": 4,
      "outputs": [
        {
          "output_type": "execute_result",
          "data": {
            "application/vnd.google.colaboratory.intrinsic+json": {
              "type": "string"
            },
            "text/plain": [
              "'/content/drive/My Drive/Basic_Data_Helpers'"
            ]
          },
          "metadata": {
            "tags": []
          },
          "execution_count": 4
        }
      ]
    },
    {
      "cell_type": "code",
      "metadata": {
        "colab": {
          "base_uri": "https://localhost:8080/"
        },
        "id": "FKM2nlVludwB",
        "outputId": "7c8adaa2-e817-4f0b-9112-b7d0fb01a5f7"
      },
      "source": [
        "cd '/content/drive/MyDrive/Basic_Data_Helpers'"
      ],
      "execution_count": 3,
      "outputs": [
        {
          "output_type": "stream",
          "text": [
            "/content/drive/MyDrive/Basic_Data_Helpers\n"
          ],
          "name": "stdout"
        }
      ]
    },
    {
      "cell_type": "code",
      "metadata": {
        "id": "EpxGLDJhuyta",
        "colab": {
          "base_uri": "https://localhost:8080/"
        },
        "outputId": "cf85f710-0f05-4e14-fc89-4e33318f0af9"
      },
      "source": [
        "!git init"
      ],
      "execution_count": 6,
      "outputs": [
        {
          "output_type": "stream",
          "text": [
            "Reinitialized existing Git repository in /content/drive/MyDrive/Basic_Data_Helpers/.git/\n"
          ],
          "name": "stdout"
        }
      ]
    },
    {
      "cell_type": "code",
      "metadata": {
        "id": "s6O7VMLlu4w9",
        "colab": {
          "base_uri": "https://localhost:8080/"
        },
        "outputId": "b03160df-baa6-4c40-9ea9-057882fc9e4f"
      },
      "source": [
        "!git remote add origin https://github.com/d29parkar/Basic_Data_Helpers.git"
      ],
      "execution_count": 7,
      "outputs": [
        {
          "output_type": "stream",
          "text": [
            "fatal: remote origin already exists.\n"
          ],
          "name": "stdout"
        }
      ]
    },
    {
      "cell_type": "code",
      "metadata": {
        "id": "z7nz6lR7yOM3",
        "colab": {
          "base_uri": "https://localhost:8080/"
        },
        "outputId": "ad4250ca-0da0-4a72-ce9d-e7b6c57f3b9f"
      },
      "source": [
        "!git commit -m \"initial commit\""
      ],
      "execution_count": 13,
      "outputs": [
        {
          "output_type": "stream",
          "text": [
            "On branch master\n",
            "\n",
            "Initial commit\n",
            "\n",
            "nothing to commit\n"
          ],
          "name": "stdout"
        }
      ]
    },
    {
      "cell_type": "code",
      "metadata": {
        "id": "t-vZXQi5RZik"
      },
      "source": [
        "!git config --global user.email 2019ume0199@iitjammu.ac.in"
      ],
      "execution_count": 11,
      "outputs": []
    },
    {
      "cell_type": "code",
      "metadata": {
        "id": "BaYJmSJ0RiSp"
      },
      "source": [
        "!git config --global user.name d29parkar"
      ],
      "execution_count": 12,
      "outputs": []
    },
    {
      "cell_type": "code",
      "metadata": {
        "id": "qTxM3x2lSvvY",
        "colab": {
          "base_uri": "https://localhost:8080/"
        },
        "outputId": "da699340-55f7-41e4-fb2e-88b8bece6620"
      },
      "source": [
        "!git push origin master"
      ],
      "execution_count": 14,
      "outputs": [
        {
          "output_type": "stream",
          "text": [
            "error: src refspec master does not match any.\n",
            "error: failed to push some refs to 'https://github.com/d29parkar/Basic_Data_Helpers.git'\n"
          ],
          "name": "stdout"
        }
      ]
    },
    {
      "cell_type": "code",
      "metadata": {
        "id": "eOxUUyEES9PM"
      },
      "source": [
        "!git show-ref"
      ],
      "execution_count": 16,
      "outputs": []
    },
    {
      "cell_type": "code",
      "metadata": {
        "colab": {
          "base_uri": "https://localhost:8080/"
        },
        "id": "-pSXo2wNVMRI",
        "outputId": "c9e769a3-eff1-43b8-cf56-e77c037809bc"
      },
      "source": [
        "!git push origin HEAD:master"
      ],
      "execution_count": 17,
      "outputs": [
        {
          "output_type": "stream",
          "text": [
            "error: src refspec HEAD does not match any.\n",
            "error: failed to push some refs to 'https://github.com/d29parkar/Basic_Data_Helpers.git'\n"
          ],
          "name": "stdout"
        }
      ]
    },
    {
      "cell_type": "code",
      "metadata": {
        "id": "LNeNu6eDVVfs"
      },
      "source": [
        ""
      ],
      "execution_count": null,
      "outputs": []
    }
  ]
}
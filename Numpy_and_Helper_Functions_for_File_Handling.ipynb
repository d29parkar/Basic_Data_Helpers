{
  "nbformat": 4,
  "nbformat_minor": 0,
  "metadata": {
    "colab": {
      "name": "Numpy and Helper Functions for File Handling.ipynb",
      "provenance": []
    },
    "kernelspec": {
      "name": "python3",
      "display_name": "Python 3"
    },
    "language_info": {
      "name": "python"
    }
  },
  "cells": [
    {
      "cell_type": "code",
      "metadata": {
        "id": "YMZJW7YID87D"
      },
      "source": [
        "import numpy as np"
      ],
      "execution_count": 1,
      "outputs": []
    },
    {
      "cell_type": "code",
      "metadata": {
        "colab": {
          "base_uri": "https://localhost:8080/"
        },
        "id": "0PiTms1Dkqx6",
        "outputId": "7ae057fd-c14a-4308-bd3b-3d4b40d3342d"
      },
      "source": [
        "import urllib.request\n",
        "\n",
        "urllib.request.urlretrieve('https://hub.jovian.ml/wp-content/uploads/2020/08/climate.csv', 'climate.txt')"
      ],
      "execution_count": 2,
      "outputs": [
        {
          "output_type": "execute_result",
          "data": {
            "text/plain": [
              "('climate.txt', <http.client.HTTPMessage at 0x7f0eee946990>)"
            ]
          },
          "metadata": {
            "tags": []
          },
          "execution_count": 2
        }
      ]
    },
    {
      "cell_type": "code",
      "metadata": {
        "id": "rU1MRAyolq6L"
      },
      "source": [
        "climate_data = np.genfromtxt('climate.txt', delimiter=',', skip_header=1)    "
      ],
      "execution_count": 3,
      "outputs": []
    },
    {
      "cell_type": "markdown",
      "metadata": {
        "id": "2LJGSNHyml-j"
      },
      "source": [
        "Load data from a text file, with missing values handled as specified. \n",
        "Each line past the first skip_header lines is split at the delimiter character, and characters following the comments character are discarded.\n"
      ]
    },
    {
      "cell_type": "code",
      "metadata": {
        "colab": {
          "base_uri": "https://localhost:8080/"
        },
        "id": "bvPybYcXmIzU",
        "outputId": "8049a0ae-24d1-455f-d748-de4b042cdc80"
      },
      "source": [
        "climate_data\n",
        "climate_data.shape"
      ],
      "execution_count": 4,
      "outputs": [
        {
          "output_type": "execute_result",
          "data": {
            "text/plain": [
              "(10000, 3)"
            ]
          },
          "metadata": {
            "tags": []
          },
          "execution_count": 4
        }
      ]
    },
    {
      "cell_type": "code",
      "metadata": {
        "id": "K7_qWJLFm-z_"
      },
      "source": [
        "weights = np.array([0.3, 0.2, 0.5])"
      ],
      "execution_count": 5,
      "outputs": []
    },
    {
      "cell_type": "code",
      "metadata": {
        "id": "44WMo6syniR_"
      },
      "source": [
        "yields = climate_data @ weights"
      ],
      "execution_count": 6,
      "outputs": []
    },
    {
      "cell_type": "code",
      "metadata": {
        "colab": {
          "base_uri": "https://localhost:8080/"
        },
        "id": "eesJgcMRnjwK",
        "outputId": "8b1f0643-c31b-4e25-affd-de6f7f2c1f6c"
      },
      "source": [
        "yields.shape"
      ],
      "execution_count": 7,
      "outputs": [
        {
          "output_type": "execute_result",
          "data": {
            "text/plain": [
              "(10000,)"
            ]
          },
          "metadata": {
            "tags": []
          },
          "execution_count": 7
        }
      ]
    },
    {
      "cell_type": "code",
      "metadata": {
        "id": "TNhpd9AzoQ_a"
      },
      "source": [
        "climate_results = np.concatenate((climate_data, yields.reshape(10000,1)), axis=1)"
      ],
      "execution_count": 8,
      "outputs": []
    },
    {
      "cell_type": "code",
      "metadata": {
        "colab": {
          "base_uri": "https://localhost:8080/"
        },
        "id": "ETsdN3fBohyH",
        "outputId": "40b46c3d-f838-4e8e-af3c-fc244557a37d"
      },
      "source": [
        "climate_results"
      ],
      "execution_count": 9,
      "outputs": [
        {
          "output_type": "execute_result",
          "data": {
            "text/plain": [
              "array([[25. , 76. , 99. , 72.2],\n",
              "       [39. , 65. , 70. , 59.7],\n",
              "       [59. , 45. , 77. , 65.2],\n",
              "       ...,\n",
              "       [99. , 62. , 58. , 71.1],\n",
              "       [70. , 71. , 91. , 80.7],\n",
              "       [92. , 39. , 76. , 73.4]])"
            ]
          },
          "metadata": {
            "tags": []
          },
          "execution_count": 9
        }
      ]
    },
    {
      "cell_type": "code",
      "metadata": {
        "id": "Dj2tlcG4okQl"
      },
      "source": [
        "np.savetxt('climate_results.txt', \n",
        "           climate_results, \n",
        "           fmt='%.2f', \n",
        "           delimiter=',',\n",
        "           header='temperature,rainfall,humidity,yeild_apples', \n",
        "           comments='')"
      ],
      "execution_count": 10,
      "outputs": []
    },
    {
      "cell_type": "markdown",
      "metadata": {
        "id": "S-58vqUxt9gp"
      },
      "source": [
        "#Reading from and Writing to Files using Python"
      ]
    },
    {
      "cell_type": "code",
      "metadata": {
        "id": "103P5WTTt9CT"
      },
      "source": [
        "import os\n"
      ],
      "execution_count": 11,
      "outputs": []
    },
    {
      "cell_type": "code",
      "metadata": {
        "colab": {
          "base_uri": "https://localhost:8080/",
          "height": 35
        },
        "id": "wc58Ib5Aqlv_",
        "outputId": "2a449c8c-434e-46c4-ce3a-7ceb8ed46f42"
      },
      "source": [
        "os.getcwd()\n"
      ],
      "execution_count": 12,
      "outputs": [
        {
          "output_type": "execute_result",
          "data": {
            "application/vnd.google.colaboratory.intrinsic+json": {
              "type": "string"
            },
            "text/plain": [
              "'/content'"
            ]
          },
          "metadata": {
            "tags": []
          },
          "execution_count": 12
        }
      ]
    },
    {
      "cell_type": "code",
      "metadata": {
        "colab": {
          "base_uri": "https://localhost:8080/"
        },
        "id": "I96E-e8OwhQt",
        "outputId": "1579a697-509d-4792-e828-37e8f02567d4"
      },
      "source": [
        "os.listdir('.')"
      ],
      "execution_count": 13,
      "outputs": [
        {
          "output_type": "execute_result",
          "data": {
            "text/plain": [
              "['.config', 'climate_results.txt', 'climate.txt', 'sample_data']"
            ]
          },
          "metadata": {
            "tags": []
          },
          "execution_count": 13
        }
      ]
    },
    {
      "cell_type": "code",
      "metadata": {
        "id": "NqMJNxxcwnbJ"
      },
      "source": [
        "os.makedirs('./data', exist_ok=True)"
      ],
      "execution_count": 14,
      "outputs": []
    },
    {
      "cell_type": "code",
      "metadata": {
        "colab": {
          "base_uri": "https://localhost:8080/"
        },
        "id": "Ibqs6fXyy0ey",
        "outputId": "054153d5-dd8d-4924-ccaf-2b0dd6329441"
      },
      "source": [
        "'data' in os.listdir('.')"
      ],
      "execution_count": 15,
      "outputs": [
        {
          "output_type": "execute_result",
          "data": {
            "text/plain": [
              "True"
            ]
          },
          "metadata": {
            "tags": []
          },
          "execution_count": 15
        }
      ]
    },
    {
      "cell_type": "code",
      "metadata": {
        "colab": {
          "base_uri": "https://localhost:8080/"
        },
        "id": "6Y6juJ8Ky4yJ",
        "outputId": "8a41d610-8ccc-4331-b027-6b8a55ebeaba"
      },
      "source": [
        "os.listdir('./data')"
      ],
      "execution_count": 16,
      "outputs": [
        {
          "output_type": "execute_result",
          "data": {
            "text/plain": [
              "[]"
            ]
          },
          "metadata": {
            "tags": []
          },
          "execution_count": 16
        }
      ]
    },
    {
      "cell_type": "code",
      "metadata": {
        "id": "3DzLQCO9zcMD"
      },
      "source": [
        "url1 = 'https://gist.githubusercontent.com/aakashns/257f6e6c8719c17d0e498ea287d1a386/raw/7def9ef4234ddf0bc82f855ad67dac8b971852ef/loans1.txt'\n",
        "url2 = 'https://gist.githubusercontent.com/aakashns/257f6e6c8719c17d0e498ea287d1a386/raw/7def9ef4234ddf0bc82f855ad67dac8b971852ef/loans2.txt'\n",
        "url3 = 'https://gist.githubusercontent.com/aakashns/257f6e6c8719c17d0e498ea287d1a386/raw/7def9ef4234ddf0bc82f855ad67dac8b971852ef/loans3.txt'\n"
      ],
      "execution_count": 17,
      "outputs": []
    },
    {
      "cell_type": "code",
      "metadata": {
        "id": "WUFGFK1QzrsH"
      },
      "source": [
        "from urllib.request import urlretrieve"
      ],
      "execution_count": 18,
      "outputs": []
    },
    {
      "cell_type": "code",
      "metadata": {
        "colab": {
          "base_uri": "https://localhost:8080/"
        },
        "id": "FArZY1PJz2FF",
        "outputId": "381eb357-b6b7-47f2-b2df-9d2aadc49df4"
      },
      "source": [
        "urlretrieve(url1, './data/loans1.txt')"
      ],
      "execution_count": 19,
      "outputs": [
        {
          "output_type": "execute_result",
          "data": {
            "text/plain": [
              "('./data/loans1.txt', <http.client.HTTPMessage at 0x7f0ee8211510>)"
            ]
          },
          "metadata": {
            "tags": []
          },
          "execution_count": 19
        }
      ]
    },
    {
      "cell_type": "code",
      "metadata": {
        "colab": {
          "base_uri": "https://localhost:8080/"
        },
        "id": "zbLobZiO0Rrj",
        "outputId": "4b92db2c-9e84-4cdb-f551-11392dfd4cd8"
      },
      "source": [
        "urlretrieve(url2, './data/loans2.txt')"
      ],
      "execution_count": 20,
      "outputs": [
        {
          "output_type": "execute_result",
          "data": {
            "text/plain": [
              "('./data/loans2.txt', <http.client.HTTPMessage at 0x7f0ee8216490>)"
            ]
          },
          "metadata": {
            "tags": []
          },
          "execution_count": 20
        }
      ]
    },
    {
      "cell_type": "code",
      "metadata": {
        "colab": {
          "base_uri": "https://localhost:8080/"
        },
        "id": "csn8vQWK0ZeK",
        "outputId": "a6bd6ca1-1fcc-4ea5-f3ae-42483e9e933f"
      },
      "source": [
        "urlretrieve(url3, './data/loans3.txt')"
      ],
      "execution_count": 21,
      "outputs": [
        {
          "output_type": "execute_result",
          "data": {
            "text/plain": [
              "('./data/loans3.txt', <http.client.HTTPMessage at 0x7f0ee820a6d0>)"
            ]
          },
          "metadata": {
            "tags": []
          },
          "execution_count": 21
        }
      ]
    },
    {
      "cell_type": "code",
      "metadata": {
        "colab": {
          "base_uri": "https://localhost:8080/"
        },
        "id": "EQxXMT3U0bpI",
        "outputId": "5f21f9bf-ce0c-4252-c4e3-f7cedab57084"
      },
      "source": [
        "os.listdir('./data')"
      ],
      "execution_count": 22,
      "outputs": [
        {
          "output_type": "execute_result",
          "data": {
            "text/plain": [
              "['loans1.txt', 'loans3.txt', 'loans2.txt']"
            ]
          },
          "metadata": {
            "tags": []
          },
          "execution_count": 22
        }
      ]
    },
    {
      "cell_type": "markdown",
      "metadata": {
        "id": "tKA4aoG50kj4"
      },
      "source": [
        "#Reading from a file"
      ]
    },
    {
      "cell_type": "code",
      "metadata": {
        "colab": {
          "base_uri": "https://localhost:8080/"
        },
        "id": "0Pta0y4_0fpO",
        "outputId": "bf9b91f1-97bc-4915-f7db-907419cfcb45"
      },
      "source": [
        "with open('./data/loans2.txt') as file2:\n",
        "    file2_contents = file2.read()\n",
        "    print(file2_contents)"
      ],
      "execution_count": 23,
      "outputs": [
        {
          "output_type": "stream",
          "text": [
            "amount,duration,rate,down_payment\n",
            "828400,120,0.11,100000\n",
            "4633400,240,0.06,\n",
            "42900,90,0.08,8900\n",
            "983000,16,0.14,\n",
            "15230,48,0.07,4300\n"
          ],
          "name": "stdout"
        }
      ]
    },
    {
      "cell_type": "code",
      "metadata": {
        "id": "GhWJABqb05zk"
      },
      "source": [
        "with open('./data/loans3.txt', 'r') as file3:\n",
        "    file3_lines = file3.readlines()"
      ],
      "execution_count": 24,
      "outputs": []
    },
    {
      "cell_type": "code",
      "metadata": {
        "colab": {
          "base_uri": "https://localhost:8080/",
          "height": 35
        },
        "id": "8zZia6HC1HTX",
        "outputId": "4bd3b117-d179-4f28-c206-bec4c4b520ad"
      },
      "source": [
        "file3_lines[0].strip()   #The strip() method returns a copy of the string by removing both \n",
        "                         #the leading and the trailing characters (based on the string argument passed)."
      ],
      "execution_count": 25,
      "outputs": [
        {
          "output_type": "execute_result",
          "data": {
            "application/vnd.google.colaboratory.intrinsic+json": {
              "type": "string"
            },
            "text/plain": [
              "'amount,duration,rate,down_payment'"
            ]
          },
          "metadata": {
            "tags": []
          },
          "execution_count": 25
        }
      ]
    },
    {
      "cell_type": "code",
      "metadata": {
        "colab": {
          "base_uri": "https://localhost:8080/"
        },
        "id": "XLUH4gcj2Lsm",
        "outputId": "39a2dcfc-24c5-4fbc-f67d-083f35c7b67c"
      },
      "source": [
        "file3_lines[0].strip().split(',')"
      ],
      "execution_count": 26,
      "outputs": [
        {
          "output_type": "execute_result",
          "data": {
            "text/plain": [
              "['amount', 'duration', 'rate', 'down_payment']"
            ]
          },
          "metadata": {
            "tags": []
          },
          "execution_count": 26
        }
      ]
    },
    {
      "cell_type": "code",
      "metadata": {
        "id": "e8kOeP082b0h"
      },
      "source": [
        "def parse_headers(header_line):\n",
        "    return header_line.strip().split(',')\n",
        "\n",
        "def parse_values(data_line):\n",
        "    values = []\n",
        "    for item in data_line.strip().split(','):\n",
        "        if item == '':\n",
        "            values.append(0.0)\n",
        "        else:\n",
        "            try:\n",
        "                values.append(float(item))\n",
        "            except ValueError:\n",
        "                values.append(item)\n",
        "    return values\n",
        "\n",
        "def create_item_dict(values, headers):\n",
        "    result = {}\n",
        "    for value, header in zip(values, headers):\n",
        "        result[header] = value\n",
        "    return result"
      ],
      "execution_count": 27,
      "outputs": []
    },
    {
      "cell_type": "code",
      "metadata": {
        "colab": {
          "base_uri": "https://localhost:8080/"
        },
        "id": "Czj1yc897QXv",
        "outputId": "8fe143eb-9410-4c00-9964-25c0627459ec"
      },
      "source": [
        "headers = parse_headers(file3_lines[0])\n",
        "print(headers)\n",
        "values1 = parse_values(file3_lines[1])\n",
        "print(values1)\n",
        "result1 = create_item_dict(values1, headers)\n",
        "print(result1)"
      ],
      "execution_count": 28,
      "outputs": [
        {
          "output_type": "stream",
          "text": [
            "['amount', 'duration', 'rate', 'down_payment']\n",
            "[45230.0, 48.0, 0.07, 4300.0]\n",
            "{'amount': 45230.0, 'duration': 48.0, 'rate': 0.07, 'down_payment': 4300.0}\n"
          ],
          "name": "stdout"
        }
      ]
    },
    {
      "cell_type": "code",
      "metadata": {
        "colab": {
          "base_uri": "https://localhost:8080/"
        },
        "id": "Bptx3xHp7b6E",
        "outputId": "7f40c9bb-14d6-45d8-b878-8f77ddac2ba2"
      },
      "source": [
        "def read_csv_as_array(path):\n",
        "    result = []\n",
        "    # Open the file in read mode\n",
        "    with open(path, 'r') as f:\n",
        "        # Get a list of lines\n",
        "        lines = f.readlines()\n",
        "        # Parse the header\n",
        "        headers = parse_headers(lines[0])\n",
        "        # Loop over the remaining lines\n",
        "        for data_line in lines[1:]:\n",
        "            # Parse the values\n",
        "            result.append(parse_values(data_line))\n",
        "    return result\n",
        "\n"
      ],
      "execution_count": 45,
      "outputs": [
        {
          "output_type": "execute_result",
          "data": {
            "text/plain": [
              "array([[8.2840e+05, 1.2000e+02, 1.1000e-01, 1.0000e+05],\n",
              "       [4.6334e+06, 2.4000e+02, 6.0000e-02, 0.0000e+00],\n",
              "       [4.2900e+04, 9.0000e+01, 8.0000e-02, 8.9000e+03],\n",
              "       [9.8300e+05, 1.6000e+01, 1.4000e-01, 0.0000e+00],\n",
              "       [1.5230e+04, 4.8000e+01, 7.0000e-02, 4.3000e+03]])"
            ]
          },
          "metadata": {
            "tags": []
          },
          "execution_count": 45
        }
      ]
    },
    {
      "cell_type": "code",
      "metadata": {
        "id": "fz5lDp59m69-",
        "outputId": "83149df4-a74c-4d1e-d4f9-70220728b249",
        "colab": {
          "base_uri": "https://localhost:8080/"
        }
      },
      "source": [
        "read_csv_as_array('./data/loans2.txt')   #Read the data from csv file as an nested array."
      ],
      "execution_count": 46,
      "outputs": [
        {
          "output_type": "execute_result",
          "data": {
            "text/plain": [
              "[[828400.0, 120.0, 0.11, 100000.0],\n",
              " [4633400.0, 240.0, 0.06, 0.0],\n",
              " [42900.0, 90.0, 0.08, 8900.0],\n",
              " [983000.0, 16.0, 0.14, 0.0],\n",
              " [15230.0, 48.0, 0.07, 4300.0]]"
            ]
          },
          "metadata": {
            "tags": []
          },
          "execution_count": 46
        }
      ]
    },
    {
      "cell_type": "code",
      "metadata": {
        "id": "6I61fLB39cWX"
      },
      "source": [
        "def read_csv(path):\n",
        "    result = []\n",
        "    # Open the file in read mode\n",
        "    with open(path, 'r') as f:\n",
        "        # Get a list of lines\n",
        "        lines = f.readlines()\n",
        "        # Parse the header\n",
        "        headers = parse_headers(lines[0])\n",
        "        # Loop over the remaining lines\n",
        "        for data_line in lines[1:]:\n",
        "            # Parse the values\n",
        "            values = parse_values(data_line)\n",
        "            # Create a dictionary using values & headers\n",
        "            item_dict = create_item_dict(values, headers)\n",
        "            # Add the dictionary to the result\n",
        "            result.append(item_dict)\n",
        "    return result"
      ],
      "execution_count": 30,
      "outputs": []
    },
    {
      "cell_type": "code",
      "metadata": {
        "id": "OBcko-Fg-tqg",
        "outputId": "865138b9-2318-4fd0-d496-91b792af8864",
        "colab": {
          "base_uri": "https://localhost:8080/"
        }
      },
      "source": [
        "read_csv('./data/loans2.txt')    #Read the data from the csv file as a Dictionary."
      ],
      "execution_count": 31,
      "outputs": [
        {
          "output_type": "execute_result",
          "data": {
            "text/plain": [
              "[{'amount': 828400.0,\n",
              "  'down_payment': 100000.0,\n",
              "  'duration': 120.0,\n",
              "  'rate': 0.11},\n",
              " {'amount': 4633400.0, 'down_payment': 0.0, 'duration': 240.0, 'rate': 0.06},\n",
              " {'amount': 42900.0, 'down_payment': 8900.0, 'duration': 90.0, 'rate': 0.08},\n",
              " {'amount': 983000.0, 'down_payment': 0.0, 'duration': 16.0, 'rate': 0.14},\n",
              " {'amount': 15230.0, 'down_payment': 4300.0, 'duration': 48.0, 'rate': 0.07}]"
            ]
          },
          "metadata": {
            "tags": []
          },
          "execution_count": 31
        }
      ]
    },
    {
      "cell_type": "markdown",
      "metadata": {
        "id": "ZPIF2rrpnjiD"
      },
      "source": [
        "#Writing to FIles"
      ]
    },
    {
      "cell_type": "code",
      "metadata": {
        "id": "Hvw0b7w_-zqi"
      },
      "source": [
        "import math\n",
        "\n",
        "def loan_emi(amount, duration, rate, down_payment=0):\n",
        "    \"\"\"Calculates the equal montly installment (EMI) for a loan.\n",
        "    \n",
        "    Arguments:\n",
        "        amount - Total amount to be spent (loan + down payment)\n",
        "        duration - Duration of the loan (in months)\n",
        "        rate - Rate of interest (monthly)\n",
        "        down_payment (optional) - Optional intial payment (deducted from amount)\n",
        "    \"\"\"\n",
        "    loan_amount = amount - down_payment\n",
        "    try:\n",
        "        emi = loan_amount * rate * ((1+rate)**duration) / (((1+rate)**duration)-1)\n",
        "    except ZeroDivisionError:\n",
        "        emi = loan_amount / duration\n",
        "    emi = math.ceil(emi)\n",
        "    return emi"
      ],
      "execution_count": 47,
      "outputs": []
    },
    {
      "cell_type": "code",
      "metadata": {
        "id": "lagIJzOJn-Jv"
      },
      "source": [
        "def compute_emis(loans):\n",
        "    for loan in loans:\n",
        "        loan['emi'] = loan_emi(\n",
        "            loan['amount'], \n",
        "            loan['duration'], \n",
        "            loan['rate']/12, # the CSV contains yearly rates\n",
        "            loan['down_payment'])"
      ],
      "execution_count": 48,
      "outputs": []
    },
    {
      "cell_type": "code",
      "metadata": {
        "id": "3wdRhIe9oBsE"
      },
      "source": [
        "loans2 = read_csv('./data/loans2.txt')"
      ],
      "execution_count": 49,
      "outputs": []
    },
    {
      "cell_type": "code",
      "metadata": {
        "id": "aQ4DcitroEfX",
        "outputId": "a1509035-ea1a-4967-f976-7d96f0c7e469",
        "colab": {
          "base_uri": "https://localhost:8080/"
        }
      },
      "source": [
        "compute_emis(loans2)\n",
        "loans2"
      ],
      "execution_count": 50,
      "outputs": [
        {
          "output_type": "execute_result",
          "data": {
            "text/plain": [
              "[{'amount': 828400.0,\n",
              "  'down_payment': 100000.0,\n",
              "  'duration': 120.0,\n",
              "  'emi': 10034,\n",
              "  'rate': 0.11},\n",
              " {'amount': 4633400.0,\n",
              "  'down_payment': 0.0,\n",
              "  'duration': 240.0,\n",
              "  'emi': 33196,\n",
              "  'rate': 0.06},\n",
              " {'amount': 42900.0,\n",
              "  'down_payment': 8900.0,\n",
              "  'duration': 90.0,\n",
              "  'emi': 504,\n",
              "  'rate': 0.08},\n",
              " {'amount': 983000.0,\n",
              "  'down_payment': 0.0,\n",
              "  'duration': 16.0,\n",
              "  'emi': 67707,\n",
              "  'rate': 0.14},\n",
              " {'amount': 15230.0,\n",
              "  'down_payment': 4300.0,\n",
              "  'duration': 48.0,\n",
              "  'emi': 262,\n",
              "  'rate': 0.07}]"
            ]
          },
          "metadata": {
            "tags": []
          },
          "execution_count": 50
        }
      ]
    },
    {
      "cell_type": "code",
      "metadata": {
        "id": "FbU2LieuoHrr"
      },
      "source": [
        "with open('./data/emis2.txt', 'w') as f:\n",
        "    for loan in loans2:\n",
        "        f.write('{},{},{},{},{}\\n'.format(\n",
        "            loan['amount'], \n",
        "            loan['duration'], \n",
        "            loan['rate'], \n",
        "            loan['down_payment'], \n",
        "            loan['emi']))"
      ],
      "execution_count": 51,
      "outputs": []
    },
    {
      "cell_type": "code",
      "metadata": {
        "id": "dzQfEBi4oeOU",
        "outputId": "84df58a1-d9c3-43e4-f99a-2390b5a922b1",
        "colab": {
          "base_uri": "https://localhost:8080/"
        }
      },
      "source": [
        "with open('./data/emis2.txt', 'r') as f:\n",
        "    print(f.read())"
      ],
      "execution_count": 52,
      "outputs": [
        {
          "output_type": "stream",
          "text": [
            "828400.0,120.0,0.11,100000.0,10034\n",
            "4633400.0,240.0,0.06,0.0,33196\n",
            "42900.0,90.0,0.08,8900.0,504\n",
            "983000.0,16.0,0.14,0.0,67707\n",
            "15230.0,48.0,0.07,4300.0,262\n",
            "\n"
          ],
          "name": "stdout"
        }
      ]
    },
    {
      "cell_type": "code",
      "metadata": {
        "id": "a1gNG9jrojvf"
      },
      "source": [
        "def write_csv(items, path):\n",
        "    # Open the file in write mode\n",
        "    with open(path, 'w') as f:\n",
        "        # Return if there's nothing to write\n",
        "        if len(items) == 0:\n",
        "            return\n",
        "        \n",
        "        # Write the headers in the first line\n",
        "        headers = list(items[0].keys())\n",
        "        f.write(','.join(headers) + '\\n')\n",
        "        \n",
        "        # Write one item per line\n",
        "        for item in items:\n",
        "            values = []\n",
        "            for header in headers:\n",
        "                values.append(str(item.get(header, \"\")))\n",
        "            f.write(','.join(values) + \"\\n\")"
      ],
      "execution_count": 53,
      "outputs": []
    },
    {
      "cell_type": "code",
      "metadata": {
        "id": "rUP1iRcspC0F"
      },
      "source": [
        "loans3 = read_csv('./data/loans3.txt')"
      ],
      "execution_count": 54,
      "outputs": []
    },
    {
      "cell_type": "code",
      "metadata": {
        "id": "RAJ6sOahpF_w"
      },
      "source": [
        "compute_emis(loans3)"
      ],
      "execution_count": 55,
      "outputs": []
    },
    {
      "cell_type": "code",
      "metadata": {
        "id": "wZRh1g7SpH7k"
      },
      "source": [
        "write_csv(loans3, './data/emis3.txt')"
      ],
      "execution_count": 56,
      "outputs": []
    },
    {
      "cell_type": "code",
      "metadata": {
        "id": "U3NnID5OpJsR",
        "outputId": "93da8004-30bc-4a5a-ab57-50607820fb7d",
        "colab": {
          "base_uri": "https://localhost:8080/"
        }
      },
      "source": [
        "with open('./data/emis3.txt', 'r') as f:\n",
        "    print(f.read())"
      ],
      "execution_count": 57,
      "outputs": [
        {
          "output_type": "stream",
          "text": [
            "amount,duration,rate,down_payment,emi\n",
            "45230.0,48.0,0.07,4300.0,981\n",
            "883000.0,16.0,0.14,0.0,60819\n",
            "100000.0,12.0,0.1,0.0,8792\n",
            "728400.0,120.0,0.12,100000.0,9016\n",
            "3637400.0,240.0,0.06,0.0,26060\n",
            "82900.0,90.0,0.07,8900.0,1060\n",
            "316000.0,16.0,0.13,0.0,21618\n",
            "15230.0,48.0,0.08,4300.0,267\n",
            "991360.0,99.0,0.08,0.0,13712\n",
            "323000.0,27.0,0.09,4720010000.0,-193751447\n",
            "528400.0,120.0,0.11,100000.0,5902\n",
            "8633400.0,240.0,0.06,0.0,61853\n",
            "12900.0,90.0,0.08,8900.0,60\n",
            "\n"
          ],
          "name": "stdout"
        }
      ]
    },
    {
      "cell_type": "code",
      "metadata": {
        "id": "ZvNLmmN4pLNu",
        "outputId": "b45c3c9a-5f7a-4818-9e4e-1e340a21aac7",
        "colab": {
          "base_uri": "https://localhost:8080/",
          "height": 35
        }
      },
      "source": [
        "%pwd"
      ],
      "execution_count": 61,
      "outputs": [
        {
          "output_type": "execute_result",
          "data": {
            "application/vnd.google.colaboratory.intrinsic+json": {
              "type": "string"
            },
            "text/plain": [
              "'/content/drive/MyDrive'"
            ]
          },
          "metadata": {
            "tags": []
          },
          "execution_count": 61
        }
      ]
    },
    {
      "cell_type": "code",
      "metadata": {
        "id": "FKM2nlVludwB",
        "outputId": "937687eb-33b3-4e66-ed13-97d54c13a1bc",
        "colab": {
          "base_uri": "https://localhost:8080/"
        }
      },
      "source": [
        "cd '/content/drive/MyDrive'"
      ],
      "execution_count": 60,
      "outputs": [
        {
          "output_type": "stream",
          "text": [
            "/content/drive/MyDrive\n"
          ],
          "name": "stdout"
        }
      ]
    },
    {
      "cell_type": "code",
      "metadata": {
        "id": "EpxGLDJhuyta",
        "outputId": "7d67e266-24a9-4a3d-f6f9-b04732fc38f1",
        "colab": {
          "base_uri": "https://localhost:8080/"
        }
      },
      "source": [
        "!git clone https://github.com/d29parkar/Basic_Data_Helpers.git"
      ],
      "execution_count": 64,
      "outputs": [
        {
          "output_type": "stream",
          "text": [
            "Cloning into 'Basic_Data_Helpers'...\n",
            "warning: You appear to have cloned an empty repository.\n"
          ],
          "name": "stdout"
        }
      ]
    },
    {
      "cell_type": "code",
      "metadata": {
        "id": "s6O7VMLlu4w9"
      },
      "source": [
        ""
      ],
      "execution_count": null,
      "outputs": []
    }
  ]
}